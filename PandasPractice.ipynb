{
 "cells": [
  {
   "cell_type": "code",
   "execution_count": 1,
   "id": "105fc40d-3344-47b0-9a21-ca28c3ccaf65",
   "metadata": {},
   "outputs": [],
   "source": [
    "import numpy as np\n",
    "import pandas as pd\n",
    "from pandas import Series, DataFrame"
   ]
  },
  {
   "cell_type": "code",
   "execution_count": 2,
   "id": "51fb2063-fdad-4d01-acb2-8c06613c8d27",
   "metadata": {},
   "outputs": [
    {
     "data": {
      "text/plain": [
       "0    1\n",
       "1    2\n",
       "2    3\n",
       "3    4\n",
       "dtype: int64"
      ]
     },
     "execution_count": 2,
     "metadata": {},
     "output_type": "execute_result"
    }
   ],
   "source": [
    "obj = Series([1,2,3,4])\n",
    "obj"
   ]
  },
  {
   "cell_type": "code",
   "execution_count": 3,
   "id": "01b252c3-c595-4516-979b-c2d930b6fdd8",
   "metadata": {},
   "outputs": [
    {
     "data": {
      "text/plain": [
       "array([1, 2, 3, 4], dtype=int64)"
      ]
     },
     "execution_count": 3,
     "metadata": {},
     "output_type": "execute_result"
    }
   ],
   "source": [
    "obj.values"
   ]
  },
  {
   "cell_type": "code",
   "execution_count": 4,
   "id": "41d0ec99-95bd-41da-93bf-da37c295461b",
   "metadata": {},
   "outputs": [
    {
     "data": {
      "text/plain": [
       "RangeIndex(start=0, stop=4, step=1)"
      ]
     },
     "execution_count": 4,
     "metadata": {},
     "output_type": "execute_result"
    }
   ],
   "source": [
    "obj.index"
   ]
  },
  {
   "cell_type": "code",
   "execution_count": 5,
   "id": "c5d412a7-7de2-495f-a10e-0c8ab9e21ef3",
   "metadata": {},
   "outputs": [
    {
     "data": {
      "text/plain": [
       "USSR       480000\n",
       "Germany    213000\n",
       "China      120000\n",
       "Japan      670000\n",
       "USA        463000\n",
       "dtype: int64"
      ]
     },
     "execution_count": 5,
     "metadata": {},
     "output_type": "execute_result"
    }
   ],
   "source": [
    "ww2_cas = Series([480000,213000,120000,670000,463000],index=[\"USSR\",\"Germany\",\"China\",\"Japan\",\"USA\"])\n",
    "ww2_cas"
   ]
  },
  {
   "cell_type": "code",
   "execution_count": 6,
   "id": "d47faaed-1ade-4f29-a744-30ab084d4a59",
   "metadata": {},
   "outputs": [
    {
     "data": {
      "text/plain": [
       "213000"
      ]
     },
     "execution_count": 6,
     "metadata": {},
     "output_type": "execute_result"
    }
   ],
   "source": [
    "ww2_cas[\"Germany\"]"
   ]
  },
  {
   "cell_type": "code",
   "execution_count": 9,
   "id": "9a9b92bf-ce3d-4c65-8736-c740fd8ec512",
   "metadata": {},
   "outputs": [
    {
     "data": {
      "text/plain": [
       "True"
      ]
     },
     "execution_count": 9,
     "metadata": {},
     "output_type": "execute_result"
    }
   ],
   "source": [
    "\"USA\" in ww2_cas"
   ]
  },
  {
   "cell_type": "code",
   "execution_count": 16,
   "id": "05d0c81c-dad7-41b5-bd01-c953e0666930",
   "metadata": {},
   "outputs": [
    {
     "data": {
      "text/plain": [
       "{'USSR': 480000,\n",
       " 'Germany': 213000,\n",
       " 'China': 120000,\n",
       " 'Japan': 670000,\n",
       " 'USA': 463000}"
      ]
     },
     "execution_count": 16,
     "metadata": {},
     "output_type": "execute_result"
    }
   ],
   "source": [
    "#converting dict\n",
    "my_dict = ww2_cas.to_dict()\n",
    "my_dict"
   ]
  },
  {
   "cell_type": "code",
   "execution_count": 11,
   "id": "f52ca041-110e-4497-b237-1f13c98bef64",
   "metadata": {},
   "outputs": [
    {
     "data": {
      "text/plain": [
       "USSR       480000\n",
       "Germany    213000\n",
       "China      120000\n",
       "Japan      670000\n",
       "USA        463000\n",
       "dtype: int64"
      ]
     },
     "execution_count": 11,
     "metadata": {},
     "output_type": "execute_result"
    }
   ],
   "source": [
    "ww2_series = Series(my_dict)\n",
    "ww2_series"
   ]
  },
  {
   "cell_type": "code",
   "execution_count": 14,
   "id": "c805ab78-74ef-4bc1-933b-98868d9814e6",
   "metadata": {},
   "outputs": [],
   "source": [
    "countries = [\"China\",\"Germany\",\"Japan\",\"USA\",\"USSR\"]\n"
   ]
  },
  {
   "cell_type": "code",
   "execution_count": 18,
   "id": "afd259b3-e1c0-4b0b-9d10-51c3ca5fd4b9",
   "metadata": {},
   "outputs": [
    {
     "data": {
      "text/plain": [
       "USSR       False\n",
       "Germany    False\n",
       "China      False\n",
       "Japan      False\n",
       "USA        False\n",
       "dtype: bool"
      ]
     },
     "execution_count": 18,
     "metadata": {},
     "output_type": "execute_result"
    }
   ],
   "source": [
    "pd.isnull(ww2_series)"
   ]
  },
  {
   "cell_type": "code",
   "execution_count": 19,
   "id": "0e279602-06e0-4c30-a3dc-34f2e555540d",
   "metadata": {},
   "outputs": [
    {
     "data": {
      "text/plain": [
       "USSR       True\n",
       "Germany    True\n",
       "China      True\n",
       "Japan      True\n",
       "USA        True\n",
       "dtype: bool"
      ]
     },
     "execution_count": 19,
     "metadata": {},
     "output_type": "execute_result"
    }
   ],
   "source": [
    "pd.notnull(ww2_series)"
   ]
  },
  {
   "cell_type": "code",
   "execution_count": 20,
   "id": "7acee2dc-ed87-4f21-9bdb-e413d161a0b1",
   "metadata": {},
   "outputs": [
    {
     "data": {
      "text/plain": [
       "USSR       480000\n",
       "Germany    213000\n",
       "China      120000\n",
       "Japan      670000\n",
       "USA        463000\n",
       "Name: world war 2 casualties, dtype: int64"
      ]
     },
     "execution_count": 20,
     "metadata": {},
     "output_type": "execute_result"
    }
   ],
   "source": [
    "ww2_cas.name = \"world war 2 casualties\"\n",
    "ww2_cas"
   ]
  },
  {
   "cell_type": "code",
   "execution_count": null,
   "id": "355fb72b-b6bf-4b24-aee6-fefbb19479dd",
   "metadata": {},
   "outputs": [],
   "source": []
  }
 ],
 "metadata": {
  "kernelspec": {
   "display_name": "Python 3 (ipykernel)",
   "language": "python",
   "name": "python3"
  },
  "language_info": {
   "codemirror_mode": {
    "name": "ipython",
    "version": 3
   },
   "file_extension": ".py",
   "mimetype": "text/x-python",
   "name": "python",
   "nbconvert_exporter": "python",
   "pygments_lexer": "ipython3",
   "version": "3.11.7"
  }
 },
 "nbformat": 4,
 "nbformat_minor": 5
}
